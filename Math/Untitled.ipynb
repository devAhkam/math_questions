{
 "cells": [
  {
   "cell_type": "code",
   "execution_count": 2,
   "id": "6fd55292-e46e-4db8-a49c-d63b8cc410fd",
   "metadata": {},
   "outputs": [],
   "source": [
    "content = \"\"\"@title Drawing Marbles from a Bag\n",
    "@description Calculating probability of drawing certain colored marbles.\n",
    "\n",
    "@question A bag contains 5 red marbles, 7 blue marbles, and 8 green marbles. If one marble is chosen at random, what is the probability that it is either red or green? Give your answer as a simplified fraction.\n",
    "\n",
    "(A) $\\\\frac{5}{20}$\n",
    "(B) $\\\\frac{13}{20}$\n",
    "(C) $\\\\frac{7}{20}$\n",
    "(D) $\\\\frac{8}{20}$\n",
    "(E) $\\\\frac{12}{20}$\n",
    "\n",
    "@instruction Choose the correct probability.\n",
    "@difficulty easy\n",
    "@Order 1\n",
    "\n",
    "@option $\\\\frac{5}{20}$\n",
    "@@option $\\\\frac{13}{20}$\n",
    "@option $\\\\frac{7}{20}$\n",
    "@option $\\\\frac{8}{20}$\n",
    "@option $\\\\frac{12}{20}$\n",
    "\n",
    "@explanation There are $5 + 7 + 8 = 20$ marbles in total. The number of favorable outcomes for red or green is $5 + 8 = 13$. Thus, the probability is $\\\\frac{13}{20}$.\n",
    "@subject Quantitative Math\n",
    "@unit Data Analysis & Probability\n",
    "@topic Probability (Basic, Compound Events)\n",
    "\n",
    "@plusmarks 1\n",
    "\"\"\"\n",
    "\n",
    "with open(\"question1.txt\", \"w\", encoding=\"utf-8\") as f:\n",
    "    f.write(content)\n"
   ]
  },
  {
   "cell_type": "code",
   "execution_count": 3,
   "id": "cb748408-ed8e-43b2-aad6-e4f647fd1442",
   "metadata": {},
   "outputs": [],
   "source": [
    "content = \"\"\"@title Area of a Composite Garden\n",
    "@description Finding the area of a shape made from a rectangle and a semicircle.\n",
    "\n",
    "@question A garden is shaped like a rectangle of length 12 m and width 8 m, with a semicircle of diameter 8 m attached to one of its shorter sides (as shown in the diagram below). What is the total area of the garden? (Use $\\\\pi \\\\approx 3.14$)\n",
    "\n",
    "(A) $96 + 25.12$ m²\n",
    "(B) $96 + 50.24$ m²\n",
    "(C) $90 + 25.12$ m²\n",
    "(D) $100 + 50.24$ m²\n",
    "(E) $96 + 100.48$ m²\n",
    "\n",
    "@instruction Choose the correct total area.\n",
    "@difficulty moderate\n",
    "@Order 2\n",
    "\n",
    "@option $96 + 25.12$ m²\n",
    "@@option $96 + 25.12$ m²\n",
    "@option $90 + 25.12$ m²\n",
    "@option $100 + 50.24$ m²\n",
    "@option $96 + 100.48$ m²\n",
    "\n",
    "@explanation Area of rectangle = $12 \\\\times 8 = 96$ m². Radius of semicircle = $\\\\frac{8}{2} = 4$ m. Area of semicircle = $\\\\frac{1}{2} \\\\pi r^2 = 0.5 \\\\times 3.14 \\\\times 16 = 25.12$ m². Total = $96 + 25.12 = 121.12$ m².\n",
    "@subject Quantitative Math\n",
    "@unit Geometry and Measurement\n",
    "@topic Area & Volume\n",
    "\n",
    "@plusmarks 1\n",
    "\"\"\"\n",
    "\n",
    "with open(\"question2.txt\", \"w\", encoding=\"utf-8\") as f:\n",
    "    f.write(content)\n"
   ]
  },
  {
   "cell_type": "code",
   "execution_count": null,
   "id": "065af2f8-9cdb-473c-bc45-bbdb63dc1622",
   "metadata": {},
   "outputs": [],
   "source": []
  }
 ],
 "metadata": {
  "kernelspec": {
   "display_name": "Python 3 (ipykernel)",
   "language": "python",
   "name": "python3"
  },
  "language_info": {
   "codemirror_mode": {
    "name": "ipython",
    "version": 3
   },
   "file_extension": ".py",
   "mimetype": "text/x-python",
   "name": "python",
   "nbconvert_exporter": "python",
   "pygments_lexer": "ipython3",
   "version": "3.12.5"
  }
 },
 "nbformat": 4,
 "nbformat_minor": 5
}
